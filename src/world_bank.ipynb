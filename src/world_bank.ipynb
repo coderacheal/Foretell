{
 "cells": [
  {
   "cell_type": "markdown",
   "metadata": {},
   "source": [
    "![Alt text](../assets/image.png)"
   ]
  },
  {
   "cell_type": "markdown",
   "metadata": {},
   "source": [
    "# **Research Topic**\n",
    "\n",
    "#### **Assessing the Impact of Access to Healthcare, Education, and Agricultural Advancements on the Progress Towards the First 3 Sustainable Development Goals (SDGs) in Half-way through.**.\n",
    "\n",
    "#### There are 17 SDGs, but this project will be focused on the first 3 goals. That is,\n",
    "\n",
    "1. **No Poverty**: End poverty in all its forms everywhere.\n",
    "2. **Zero Hunger**: End hunger, achieve food security and improved nutrition, and promote sustainable agriculture.\n",
    "3. **Good Health and Well-being**: Ensure healthy lives and promote well-being for all at all ages."
   ]
  },
  {
   "cell_type": "markdown",
   "metadata": {},
   "source": [
    "## **Project Requirements & Workflow**\n",
    "\n",
    "1. Use the `wbgapi` package to access the World Bank API\n",
    "   - You can also use the API directly if you want to. [Find the link here](https://documents.worldbank.org/en/publication/documents-reports/api)\n",
    "3. Identify a topic based you want to analyse. [Find Project Ideas](api_info/Project_Ideas.md)\n",
    "4. Research on the available data you can access [(indicators, economies/countries, available databases, etc)](api_research.ipynb)\n",
    "5. Extract that data from the world bank database\n",
    "   1. Decide of the databases you want to use (Use at least 3 databases)\n",
    "   2. Find the region code\n",
    "   3. Decide on the time or date range\n",
    "   4. Pull the data you need\n",
    "6. Push data into an `Amazon RDS` - (Create an AWS account and use the free tier)\n",
    "7. Access the data and from `Amazon RDS` and analyse it\n",
    "8. Create an Interative Dashboard using `Power BI` or `Tableu`\n",
    "\n",
    "[Link to project ideas](/api_info/Project_Ideas.md)\n",
    "[Link to available databases you can use here](/api_info/Availble_databases.md)"
   ]
  },
  {
   "cell_type": "markdown",
   "metadata": {},
   "source": [
    "## Importation of Packages"
   ]
  },
  {
   "cell_type": "code",
   "execution_count": 1,
   "metadata": {},
   "outputs": [],
   "source": [
    "import wbgapi as wb\n",
    "import pandas as pd"
   ]
  },
  {
   "cell_type": "markdown",
   "metadata": {},
   "source": [
    "## Selected databases to work with\n",
    "\n",
    "The following databases relate to the research topic I want to analyse\n",
    "\n",
    "1. **Health Nutrition and Population (HNP) Data**: Health-related data, including information on disease prevalence, healthcare infrastructure, and access to healthcare services. `db=16`\n",
    "2. **Sustainable Development Goals**: `db=46`\n",
    "3. **World Development Indicators (WDI)**: This database, features data on a wide range of economic, social, and environmental indicators for countries around the world. It covers topics such as GDP, population, education, health, and more. `db=2`"
   ]
  },
  {
   "cell_type": "code",
   "execution_count": null,
   "metadata": {},
   "outputs": [],
   "source": [
    "for row in wb.data.fetch('SP.POP.TOTL', 'USA'): # all years\n",
    "    print(row)"
   ]
  },
  {
   "cell_type": "code",
   "execution_count": null,
   "metadata": {},
   "outputs": [],
   "source": []
  }
 ],
 "metadata": {
  "kernelspec": {
   "display_name": "virtual",
   "language": "python",
   "name": "python3"
  },
  "language_info": {
   "codemirror_mode": {
    "name": "ipython",
    "version": 3
   },
   "file_extension": ".py",
   "mimetype": "text/x-python",
   "name": "python",
   "nbconvert_exporter": "python",
   "pygments_lexer": "ipython3",
   "version": "3.11.2"
  },
  "orig_nbformat": 4
 },
 "nbformat": 4,
 "nbformat_minor": 2
}
