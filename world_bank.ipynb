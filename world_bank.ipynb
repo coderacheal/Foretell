{
 "cells": [
  {
   "cell_type": "markdown",
   "metadata": {},
   "source": [
    "# The World Economic Project  \n",
    "\n",
    "![Alt text](assets/image.png)"
   ]
  },
  {
   "cell_type": "markdown",
   "metadata": {},
   "source": [
    "## Project Requirements & WorkFlow\n",
    "\n",
    "1. Use the `wbgapi` package to access the World Bank API\n",
    "2. Identify a topic based you want to analyse. Find Project Ideas [here](Project_Ideas.md)\n",
    "   1. Global Development Dashboard\n",
    "   2. Global Gender Gap Analyzer\n",
    "   3. International Business Expansion Advisor\n",
    "   4. Climate Change Impact Assessment\n",
    "   5. Healthcare Access Map \n",
    "3. Push data into a `Amazon RDS` - Subscribe to the free tier\n",
    "4. Access the data and from `Amazon RDS` and analyse it\n",
    "5. Create an Interative Dashboard using `Power BI` or `Tableu`\n",
    "\n",
    "\n",
    "[Link to project ideas](/PROJECT_TYPE)"
   ]
  },
  {
   "cell_type": "markdown",
   "metadata": {},
   "source": [
    "## Importation of Packages"
   ]
  },
  {
   "cell_type": "code",
   "execution_count": 1,
   "metadata": {},
   "outputs": [],
   "source": [
    "import wbgapi as wb\n",
    "import pandas as pd"
   ]
  },
  {
   "cell_type": "markdown",
   "metadata": {},
   "source": [
    "## View Major Databases"
   ]
  },
  {
   "cell_type": "code",
   "execution_count": 2,
   "metadata": {},
   "outputs": [
    {
     "data": {
      "text/html": [
       "<div class=\"wbgapi\"><table>\n",
       "<thead>\n",
       "<tr><th>id  </th><th>name                                                                </th><th>code  </th><th style=\"text-align: right;\">  concepts</th><th>lastupdated  </th></tr>\n",
       "</thead>\n",
       "<tbody>\n",
       "<tr><td>1   </td><td>Doing Business                                                      </td><td>DBS   </td><td style=\"text-align: right;\">         3</td><td>2021-08-18   </td></tr>\n",
       "<tr><td>2   </td><td>World Development Indicators                                        </td><td>WDI   </td><td style=\"text-align: right;\">         3</td><td>2023-09-19   </td></tr>\n",
       "<tr><td>3   </td><td>Worldwide Governance Indicators                                     </td><td>WGI   </td><td style=\"text-align: right;\">         3</td><td>2022-09-23   </td></tr>\n",
       "<tr><td>5   </td><td>Subnational Malnutrition Database                                   </td><td>SNM   </td><td style=\"text-align: right;\">         3</td><td>2016-03-21   </td></tr>\n",
       "<tr><td>6   </td><td>International Debt Statistics                                       </td><td>IDS   </td><td style=\"text-align: right;\">         4</td><td>2022-12-06   </td></tr>\n",
       "<tr><td>11  </td><td>Africa Development Indicators                                       </td><td>ADI   </td><td style=\"text-align: right;\">         3</td><td>2013-02-22   </td></tr>\n",
       "<tr><td>12  </td><td>Education Statistics                                                </td><td>EDS   </td><td style=\"text-align: right;\">         3</td><td>2020-12-20   </td></tr>\n",
       "<tr><td>13  </td><td>Enterprise Surveys                                                  </td><td>ESY   </td><td style=\"text-align: right;\">         3</td><td>2022-03-25   </td></tr>\n",
       "<tr><td>14  </td><td>Gender Statistics                                                   </td><td>GDS   </td><td style=\"text-align: right;\">         3</td><td>2023-07-24   </td></tr>\n",
       "<tr><td>15  </td><td>Global Economic Monitor                                             </td><td>GEM   </td><td style=\"text-align: right;\">         3</td><td>2023-07-21   </td></tr>\n",
       "<tr><td>16  </td><td>Health Nutrition and Population Statistics                          </td><td>HNP   </td><td style=\"text-align: right;\">         3</td><td>2023-07-05   </td></tr>\n",
       "<tr><td>18  </td><td>IDA Results Measurement System                                      </td><td>IDA   </td><td style=\"text-align: right;\">         3</td><td>2021-07-23   </td></tr>\n",
       "<tr><td>19  </td><td>Millennium Development Goals                                        </td><td>MDG   </td><td style=\"text-align: right;\">         3</td><td>2018-09-19   </td></tr>\n",
       "<tr><td>20  </td><td>Quarterly Public Sector Debt                                        </td><td>PSD   </td><td style=\"text-align: right;\">         3</td><td>2023-09-01   </td></tr>\n",
       "<tr><td>22  </td><td>Quarterly External Debt Statistics SDDS                             </td><td>QDS   </td><td style=\"text-align: right;\">         3</td><td>2023-07-31   </td></tr>\n",
       "<tr><td>23  </td><td>Quarterly External Debt Statistics GDDS                             </td><td>QDG   </td><td style=\"text-align: right;\">         3</td><td>2023-07-31   </td></tr>\n",
       "<tr><td>25  </td><td>Jobs                                                                </td><td>JOB   </td><td style=\"text-align: right;\">         3</td><td>2022-06-29   </td></tr>\n",
       "<tr><td>27  </td><td>Global Economic Prospects                                           </td><td>GEP   </td><td style=\"text-align: right;\">         3</td><td>2023-06-06   </td></tr>\n",
       "<tr><td>28  </td><td>Global Financial Inclusion                                          </td><td>FDX   </td><td style=\"text-align: right;\">         3</td><td>2023-04-12   </td></tr>\n",
       "<tr><td>29  </td><td>The Atlas of Social Protection: Indicators of Resilience and Equity </td><td>GSP   </td><td style=\"text-align: right;\">         3</td><td>2023-05-23   </td></tr>\n",
       "<tr><td>30  </td><td>Exporter Dynamics Database – Indicators at Country-Year Level       </td><td>ED1   </td><td style=\"text-align: right;\">         3</td><td>2016-03-31   </td></tr>\n",
       "<tr><td>31  </td><td>Country Policy and Institutional Assessment                         </td><td>CPI   </td><td style=\"text-align: right;\">         3</td><td>2023-07-24   </td></tr>\n",
       "<tr><td>32  </td><td>Global Financial Development                                        </td><td>GFD   </td><td style=\"text-align: right;\">         3</td><td>2022-09-23   </td></tr>\n",
       "<tr><td>33  </td><td>G20 Financial Inclusion Indicators                                  </td><td>G2F   </td><td style=\"text-align: right;\">         3</td><td>2019-02-27   </td></tr>\n",
       "<tr><td>34  </td><td>Global Partnership for Education                                    </td><td>GPE   </td><td style=\"text-align: right;\">         3</td><td>2013-04-12   </td></tr>\n",
       "<tr><td>35  </td><td>Sustainable Energy for All                                          </td><td>SE4   </td><td style=\"text-align: right;\">         3</td><td>2018-06-30   </td></tr>\n",
       "<tr><td>37  </td><td>LAC Equity Lab                                                      </td><td>LEL   </td><td style=\"text-align: right;\">         3</td><td>2016-04-06   </td></tr>\n",
       "<tr><td>38  </td><td>Subnational Poverty                                                 </td><td>SNP   </td><td style=\"text-align: right;\">         3</td><td>2015-04-27   </td></tr>\n",
       "<tr><td>39  </td><td>Health Nutrition and Population Statistics by Wealth Quintile       </td><td>HNQ   </td><td style=\"text-align: right;\">         3</td><td>2022-12-13   </td></tr>\n",
       "<tr><td>40  </td><td>Population estimates and projections                                </td><td>HPP   </td><td style=\"text-align: right;\">         3</td><td>2023-07-05   </td></tr>\n",
       "<tr><td>41  </td><td>Country Partnership Strategy for India (FY2013 - 17)                </td><td>CPS   </td><td style=\"text-align: right;\">         3</td><td>2015-05-22   </td></tr>\n",
       "<tr><td>43  </td><td>Adjusted Net Savings                                                </td><td>WAT   </td><td style=\"text-align: right;\">         3</td><td>2023-06-08   </td></tr>\n",
       "<tr><td>45  </td><td>Indonesia Database for Policy and Economic Research                 </td><td>IDD   </td><td style=\"text-align: right;\">         3</td><td>2022-08-11   </td></tr>\n",
       "<tr><td>46  </td><td>Sustainable Development Goals                                       </td><td>SDG   </td><td style=\"text-align: right;\">         3</td><td>2022-07-22   </td></tr>\n",
       "<tr><td>50  </td><td>Subnational Population                                              </td><td>SNT   </td><td style=\"text-align: right;\">         3</td><td>2017-09-21   </td></tr>\n",
       "<tr><td>54  </td><td>Joint External Debt Hub                                             </td><td>JED   </td><td style=\"text-align: right;\">         3</td><td>2023-09-13   </td></tr>\n",
       "<tr><td>57  </td><td>WDI Database Archives                                               </td><td>WDA   </td><td style=\"text-align: right;\">         4</td><td>2023-08-10   </td></tr>\n",
       "<tr><td>58  </td><td>Universal Health Coverage                                           </td><td>UHC   </td><td style=\"text-align: right;\">         3</td><td>2019-04-25   </td></tr>\n",
       "<tr><td>59  </td><td>Wealth Accounts                                                     </td><td>WAC   </td><td style=\"text-align: right;\">         3</td><td>2021-10-27   </td></tr>\n",
       "<tr><td>60  </td><td>Economic Fitness                                                    </td><td>EFT   </td><td style=\"text-align: right;\">         3</td><td>2018-04-19   </td></tr>\n",
       "<tr><td>61  </td><td>PPPs Regulatory Quality                                             </td><td>PRQ   </td><td style=\"text-align: right;\">         3</td><td>2019-04-25   </td></tr>\n",
       "<tr><td>62  </td><td>International Comparison Program (ICP) 2011                         </td><td>ICP   </td><td style=\"text-align: right;\">         4</td><td>2020-08-24   </td></tr>\n",
       "<tr><td>63  </td><td>Human Capital Index                                                 </td><td>HCI   </td><td style=\"text-align: right;\">         3</td><td>2020-09-21   </td></tr>\n",
       "<tr><td>64  </td><td>Worldwide Bureaucracy Indicators                                    </td><td>WBI   </td><td style=\"text-align: right;\">         3</td><td>2022-09-20   </td></tr>\n",
       "<tr><td>65  </td><td>Health Equity and Financial Protection Indicators                   </td><td>HPI   </td><td style=\"text-align: right;\">         3</td><td>2019-11-06   </td></tr>\n",
       "<tr><td>66  </td><td>Logistics Performance Index                                         </td><td>LPI   </td><td style=\"text-align: right;\">         3</td><td>2019-10-29   </td></tr>\n",
       "<tr><td>67  </td><td>PEFA 2011                                                           </td><td>PF1   </td><td style=\"text-align: right;\">         4</td><td>2022-11-23   </td></tr>\n",
       "<tr><td>68  </td><td>PEFA 2016                                                           </td><td>PF6   </td><td style=\"text-align: right;\">         4</td><td>2023-09-05   </td></tr>\n",
       "<tr><td>69  </td><td>Global Financial Inclusion and Consumer Protection Survey           </td><td>RFA   </td><td style=\"text-align: right;\">         3</td><td>2019-06-27   </td></tr>\n",
       "<tr><td>70  </td><td>Economic Fitness 2                                                  </td><td>EF2   </td><td style=\"text-align: right;\">         3</td><td>2022-07-21   </td></tr>\n",
       "<tr><td>71  </td><td>International Comparison Program (ICP) 2005                         </td><td>IC5   </td><td style=\"text-align: right;\">         4</td><td>2021-09-10   </td></tr>\n",
       "<tr><td>73  </td><td>Global Financial Inclusion and Consumer Protection Survey (Internal)</td><td>RFI   </td><td style=\"text-align: right;\">         3</td><td>2019-06-27   </td></tr>\n",
       "<tr><td>75  </td><td>Environment, Social and Governance (ESG) Data                       </td><td>ESG   </td><td style=\"text-align: right;\">         3</td><td>2023-08-21   </td></tr>\n",
       "<tr><td>76  </td><td>Remittance Prices Worldwide (Sending Countries)                     </td><td>RWS   </td><td style=\"text-align: right;\">         3</td><td>2020-12-07   </td></tr>\n",
       "<tr><td>77  </td><td>Remittance Prices Worldwide (Receiving Countries)                   </td><td>RWR   </td><td style=\"text-align: right;\">         3</td><td>2020-12-07   </td></tr>\n",
       "<tr><td>78  </td><td>ICP 2017                                                            </td><td>IC7   </td><td style=\"text-align: right;\">         4</td><td>2020-10-21   </td></tr>\n",
       "<tr><td>79  </td><td>PEFA_GRPFM                                                          </td><td>GRP   </td><td style=\"text-align: right;\">         4</td><td>2023-09-05   </td></tr>\n",
       "<tr><td>80  </td><td>Gender Disaggregated Labor Database (GDLD)                          </td><td>GDL   </td><td style=\"text-align: right;\">         4</td><td>2020-07-25   </td></tr>\n",
       "<tr><td>81  </td><td>International Debt Statistics: DSSI                                 </td><td>DSI   </td><td style=\"text-align: right;\">         4</td><td>2022-12-06   </td></tr>\n",
       "<tr><td>82  </td><td>Global Public Procurement                                           </td><td>GPP   </td><td style=\"text-align: right;\">         3</td><td>2021-03-24   </td></tr>\n",
       "<tr><td>83  </td><td>Statistical Performance Indicators (SPI)                            </td><td>SPI   </td><td style=\"text-align: right;\">         3</td><td>2021-04-01   </td></tr>\n",
       "<tr><td>84  </td><td>Education Policy                                                    </td><td>EDP   </td><td style=\"text-align: right;\">         3</td><td>2023-01-30   </td></tr>\n",
       "<tr><td>85  </td><td>PEFA_2021_SNG                                                       </td><td>SNG   </td><td style=\"text-align: right;\">         4</td><td>2023-04-19   </td></tr>\n",
       "<tr><td>86  </td><td>Global Jobs Indicators Database (JOIN)                              </td><td>JON   </td><td style=\"text-align: right;\">         3</td><td>2023-05-22   </td></tr>\n",
       "<tr><td>87  </td><td>Country Climate and Development Report (CCDR)                       </td><td>CCD   </td><td style=\"text-align: right;\">         3</td><td>2022-10-07   </td></tr>\n",
       "<tr><td>88  </td><td>Food Prices for Nutrition                                           </td><td>FPN   </td><td style=\"text-align: right;\">         4</td><td>2023-07-13   </td></tr>\n",
       "<tr><td>89  </td><td>Identification for Development (ID4D) Data                          </td><td>ID4   </td><td style=\"text-align: right;\">         3</td><td>2022-12-21   </td></tr>\n",
       "<tr><td>    </td><td>67 elements                                                         </td><td>      </td><td style=\"text-align: right;\">          </td><td>             </td></tr>\n",
       "</tbody>\n",
       "</table></div>"
      ],
      "text/plain": [
       "id    name                                                                  code      concepts  lastupdated\n",
       "----  --------------------------------------------------------------------  ------  ----------  -------------\n",
       "1     Doing Business                                                        DBS              3  2021-08-18\n",
       "2     World Development Indicators                                          WDI              3  2023-09-19\n",
       "3     Worldwide Governance Indicators                                       WGI              3  2022-09-23\n",
       "5     Subnational Malnutrition Database                                     SNM              3  2016-03-21\n",
       "6     International Debt Statistics                                         IDS              4  2022-12-06\n",
       "11    Africa Development Indicators                                         ADI              3  2013-02-22\n",
       "12    Education Statistics                                                  EDS              3  2020-12-20\n",
       "13    Enterprise Surveys                                                    ESY              3  2022-03-25\n",
       "14    Gender Statistics                                                     GDS              3  2023-07-24\n",
       "15    Global Economic Monitor                                               GEM              3  2023-07-21\n",
       "16    Health Nutrition and Population Statistics                            HNP              3  2023-07-05\n",
       "18    IDA Results Measurement System                                        IDA              3  2021-07-23\n",
       "19    Millennium Development Goals                                          MDG              3  2018-09-19\n",
       "20    Quarterly Public Sector Debt                                          PSD              3  2023-09-01\n",
       "22    Quarterly External Debt Statistics SDDS                               QDS              3  2023-07-31\n",
       "23    Quarterly External Debt Statistics GDDS                               QDG              3  2023-07-31\n",
       "25    Jobs                                                                  JOB              3  2022-06-29\n",
       "27    Global Economic Prospects                                             GEP              3  2023-06-06\n",
       "28    Global Financial Inclusion                                            FDX              3  2023-04-12\n",
       "29    The Atlas of Social Protection: Indicators of Resilience and Equity   GSP              3  2023-05-23\n",
       "30    Exporter Dynamics Database – Indicators at Country-Year Level         ED1              3  2016-03-31\n",
       "31    Country Policy and Institutional Assessment                           CPI              3  2023-07-24\n",
       "32    Global Financial Development                                          GFD              3  2022-09-23\n",
       "33    G20 Financial Inclusion Indicators                                    G2F              3  2019-02-27\n",
       "34    Global Partnership for Education                                      GPE              3  2013-04-12\n",
       "35    Sustainable Energy for All                                            SE4              3  2018-06-30\n",
       "37    LAC Equity Lab                                                        LEL              3  2016-04-06\n",
       "38    Subnational Poverty                                                   SNP              3  2015-04-27\n",
       "39    Health Nutrition and Population Statistics by Wealth Quintile         HNQ              3  2022-12-13\n",
       "40    Population estimates and projections                                  HPP              3  2023-07-05\n",
       "41    Country Partnership Strategy for India (FY2013 - 17)                  CPS              3  2015-05-22\n",
       "43    Adjusted Net Savings                                                  WAT              3  2023-06-08\n",
       "45    Indonesia Database for Policy and Economic Research                   IDD              3  2022-08-11\n",
       "46    Sustainable Development Goals                                         SDG              3  2022-07-22\n",
       "50    Subnational Population                                                SNT              3  2017-09-21\n",
       "54    Joint External Debt Hub                                               JED              3  2023-09-13\n",
       "57    WDI Database Archives                                                 WDA              4  2023-08-10\n",
       "58    Universal Health Coverage                                             UHC              3  2019-04-25\n",
       "59    Wealth Accounts                                                       WAC              3  2021-10-27\n",
       "60    Economic Fitness                                                      EFT              3  2018-04-19\n",
       "61    PPPs Regulatory Quality                                               PRQ              3  2019-04-25\n",
       "62    International Comparison Program (ICP) 2011                           ICP              4  2020-08-24\n",
       "63    Human Capital Index                                                   HCI              3  2020-09-21\n",
       "64    Worldwide Bureaucracy Indicators                                      WBI              3  2022-09-20\n",
       "65    Health Equity and Financial Protection Indicators                     HPI              3  2019-11-06\n",
       "66    Logistics Performance Index                                           LPI              3  2019-10-29\n",
       "67    PEFA 2011                                                             PF1              4  2022-11-23\n",
       "68    PEFA 2016                                                             PF6              4  2023-09-05\n",
       "69    Global Financial Inclusion and Consumer Protection Survey             RFA              3  2019-06-27\n",
       "70    Economic Fitness 2                                                    EF2              3  2022-07-21\n",
       "71    International Comparison Program (ICP) 2005                           IC5              4  2021-09-10\n",
       "73    Global Financial Inclusion and Consumer Protection Survey (Internal)  RFI              3  2019-06-27\n",
       "75    Environment, Social and Governance (ESG) Data                         ESG              3  2023-08-21\n",
       "76    Remittance Prices Worldwide (Sending Countries)                       RWS              3  2020-12-07\n",
       "77    Remittance Prices Worldwide (Receiving Countries)                     RWR              3  2020-12-07\n",
       "78    ICP 2017                                                              IC7              4  2020-10-21\n",
       "79    PEFA_GRPFM                                                            GRP              4  2023-09-05\n",
       "80    Gender Disaggregated Labor Database (GDLD)                            GDL              4  2020-07-25\n",
       "81    International Debt Statistics: DSSI                                   DSI              4  2022-12-06\n",
       "82    Global Public Procurement                                             GPP              3  2021-03-24\n",
       "83    Statistical Performance Indicators (SPI)                              SPI              3  2021-04-01\n",
       "84    Education Policy                                                      EDP              3  2023-01-30\n",
       "85    PEFA_2021_SNG                                                         SNG              4  2023-04-19\n",
       "86    Global Jobs Indicators Database (JOIN)                                JON              3  2023-05-22\n",
       "87    Country Climate and Development Report (CCDR)                         CCD              3  2022-10-07\n",
       "88    Food Prices for Nutrition                                             FPN              4  2023-07-13\n",
       "89    Identification for Development (ID4D) Data                            ID4              3  2022-12-21\n",
       "      67 elements"
      ]
     },
     "execution_count": 2,
     "metadata": {},
     "output_type": "execute_result"
    }
   ],
   "source": [
    "databases = wb.source.info()\n",
    "databases"
   ]
  },
  {
   "cell_type": "code",
   "execution_count": 8,
   "metadata": {},
   "outputs": [],
   "source": [
    "wb.economy.info(wb.income.members('HIC'))\n"
   ]
  },
  {
   "cell_type": "code",
   "execution_count": 17,
   "metadata": {},
   "outputs": [
    {
     "ename": "TypeError",
     "evalue": "'list' object is not callable",
     "output_type": "error",
     "traceback": [
      "\u001b[1;31m---------------------------------------------------------------------------\u001b[0m",
      "\u001b[1;31mTypeError\u001b[0m                                 Traceback (most recent call last)",
      "\u001b[1;32mc:\\Users\\rache\\OneDrive\\GitHub\\Personal Projects\\Foretell\\world_bank.ipynb Cell 7\u001b[0m line \u001b[0;36m7\n\u001b[0;32m      <a href='vscode-notebook-cell:/c%3A/Users/rache/OneDrive/GitHub/Personal%20Projects/Foretell/world_bank.ipynb#X13sZmlsZQ%3D%3D?line=3'>4</a>\u001b[0m \u001b[39m# Convert the dictionary to a list of dictionaries\u001b[39;00m\n\u001b[0;32m      <a href='vscode-notebook-cell:/c%3A/Users/rache/OneDrive/GitHub/Personal%20Projects/Foretell/world_bank.ipynb#X13sZmlsZQ%3D%3D?line=4'>5</a>\u001b[0m data_list \u001b[39m=\u001b[39m []\n\u001b[1;32m----> <a href='vscode-notebook-cell:/c%3A/Users/rache/OneDrive/GitHub/Personal%20Projects/Foretell/world_bank.ipynb#X13sZmlsZQ%3D%3D?line=6'>7</a>\u001b[0m \u001b[39mfor\u001b[39;00m key, value \u001b[39min\u001b[39;00m databases\u001b[39m.\u001b[39;49mitems():\n\u001b[0;32m      <a href='vscode-notebook-cell:/c%3A/Users/rache/OneDrive/GitHub/Personal%20Projects/Foretell/world_bank.ipynb#X13sZmlsZQ%3D%3D?line=7'>8</a>\u001b[0m     value[\u001b[39m'\u001b[39m\u001b[39mid\u001b[39m\u001b[39m'\u001b[39m] \u001b[39m=\u001b[39m key\n\u001b[0;32m      <a href='vscode-notebook-cell:/c%3A/Users/rache/OneDrive/GitHub/Personal%20Projects/Foretell/world_bank.ipynb#X13sZmlsZQ%3D%3D?line=8'>9</a>\u001b[0m     data_list\u001b[39m.\u001b[39mappend(value)\n",
      "\u001b[1;31mTypeError\u001b[0m: 'list' object is not callable"
     ]
    }
   ],
   "source": [
    "# Get the database information\n",
    "databases = wb.source.info()\n",
    "\n",
    "# Convert the dictionary to a list of dictionaries\n",
    "data_list = []\n",
    "\n",
    "for key, value in databases.items():\n",
    "    value['id'] = key\n",
    "    data_list.append(value)\n",
    "\n",
    "# Create a DataFrame from the list of dictionaries\n",
    "df = pd.DataFrame(data_list)\n",
    "\n",
    "# Display the DataFrame\n",
    "print(df)"
   ]
  },
  {
   "cell_type": "code",
   "execution_count": 10,
   "metadata": {},
   "outputs": [
    {
     "data": {
      "text/plain": [
       "wbgapi.Featureset"
      ]
     },
     "execution_count": 10,
     "metadata": {},
     "output_type": "execute_result"
    }
   ],
   "source": [
    "type(wb.source.info())"
   ]
  },
  {
   "cell_type": "code",
   "execution_count": 4,
   "metadata": {},
   "outputs": [
    {
     "ename": "AttributeError",
     "evalue": "'Featureset' object has no attribute 'shape'",
     "output_type": "error",
     "traceback": [
      "\u001b[1;31m---------------------------------------------------------------------------\u001b[0m",
      "\u001b[1;31mAttributeError\u001b[0m                            Traceback (most recent call last)",
      "\u001b[1;32mc:\\Users\\rache\\OneDrive\\GitHub\\Personal Projects\\Foretell\\world_bank.ipynb Cell 3\u001b[0m line \u001b[0;36m1\n\u001b[1;32m----> <a href='vscode-notebook-cell:/c%3A/Users/rache/OneDrive/GitHub/Personal%20Projects/Foretell/world_bank.ipynb#W2sZmlsZQ%3D%3D?line=0'>1</a>\u001b[0m wb\u001b[39m.\u001b[39;49msource\u001b[39m.\u001b[39;49minfo()\u001b[39m.\u001b[39;49mshape\n",
      "\u001b[1;31mAttributeError\u001b[0m: 'Featureset' object has no attribute 'shape'"
     ]
    }
   ],
   "source": [
    "wb.source.info()"
   ]
  },
  {
   "cell_type": "code",
   "execution_count": 9,
   "metadata": {},
   "outputs": [
    {
     "ename": "ValueError",
     "evalue": "DataFrame constructor not properly called!",
     "output_type": "error",
     "traceback": [
      "\u001b[1;31m---------------------------------------------------------------------------\u001b[0m",
      "\u001b[1;31mValueError\u001b[0m                                Traceback (most recent call last)",
      "\u001b[1;32m~\\AppData\\Local\\Temp\\ipykernel_51488\\2383404603.py\u001b[0m in \u001b[0;36m?\u001b[1;34m()\u001b[0m\n\u001b[1;32m----> 1\u001b[1;33m \u001b[0mpd\u001b[0m\u001b[1;33m.\u001b[0m\u001b[0mDataFrame\u001b[0m\u001b[1;33m(\u001b[0m\u001b[0mwb\u001b[0m\u001b[1;33m.\u001b[0m\u001b[0msource\u001b[0m\u001b[1;33m.\u001b[0m\u001b[0minfo\u001b[0m\u001b[1;33m)\u001b[0m\u001b[1;33m\u001b[0m\u001b[1;33m\u001b[0m\u001b[0m\n\u001b[0m",
      "\u001b[1;32mc:\\Users\\rache\\OneDrive\\GitHub\\Personal Projects\\Foretell\\virtual\\Lib\\site-packages\\pandas\\core\\frame.py\u001b[0m in \u001b[0;36m?\u001b[1;34m(self, data, index, columns, dtype, copy)\u001b[0m\n\u001b[0;32m    813\u001b[0m                 )\n\u001b[0;32m    814\u001b[0m         \u001b[1;31m# For data is scalar\u001b[0m\u001b[1;33m\u001b[0m\u001b[1;33m\u001b[0m\u001b[0m\n\u001b[0;32m    815\u001b[0m         \u001b[1;32melse\u001b[0m\u001b[1;33m:\u001b[0m\u001b[1;33m\u001b[0m\u001b[1;33m\u001b[0m\u001b[0m\n\u001b[0;32m    816\u001b[0m             \u001b[1;32mif\u001b[0m \u001b[0mindex\u001b[0m \u001b[1;32mis\u001b[0m \u001b[1;32mNone\u001b[0m \u001b[1;32mor\u001b[0m \u001b[0mcolumns\u001b[0m \u001b[1;32mis\u001b[0m \u001b[1;32mNone\u001b[0m\u001b[1;33m:\u001b[0m\u001b[1;33m\u001b[0m\u001b[1;33m\u001b[0m\u001b[0m\n\u001b[1;32m--> 817\u001b[1;33m                 \u001b[1;32mraise\u001b[0m \u001b[0mValueError\u001b[0m\u001b[1;33m(\u001b[0m\u001b[1;34m\"DataFrame constructor not properly called!\"\u001b[0m\u001b[1;33m)\u001b[0m\u001b[1;33m\u001b[0m\u001b[1;33m\u001b[0m\u001b[0m\n\u001b[0m\u001b[0;32m    818\u001b[0m \u001b[1;33m\u001b[0m\u001b[0m\n\u001b[0;32m    819\u001b[0m             \u001b[0mindex\u001b[0m \u001b[1;33m=\u001b[0m \u001b[0mensure_index\u001b[0m\u001b[1;33m(\u001b[0m\u001b[0mindex\u001b[0m\u001b[1;33m)\u001b[0m\u001b[1;33m\u001b[0m\u001b[1;33m\u001b[0m\u001b[0m\n\u001b[0;32m    820\u001b[0m             \u001b[0mcolumns\u001b[0m \u001b[1;33m=\u001b[0m \u001b[0mensure_index\u001b[0m\u001b[1;33m(\u001b[0m\u001b[0mcolumns\u001b[0m\u001b[1;33m)\u001b[0m\u001b[1;33m\u001b[0m\u001b[1;33m\u001b[0m\u001b[0m\n",
      "\u001b[1;31mValueError\u001b[0m: DataFrame constructor not properly called!"
     ]
    }
   ],
   "source": [
    "pd.DataFrame(wb.source.info)"
   ]
  },
  {
   "cell_type": "code",
   "execution_count": null,
   "metadata": {},
   "outputs": [],
   "source": []
  }
 ],
 "metadata": {
  "kernelspec": {
   "display_name": "virtual",
   "language": "python",
   "name": "python3"
  },
  "language_info": {
   "codemirror_mode": {
    "name": "ipython",
    "version": 3
   },
   "file_extension": ".py",
   "mimetype": "text/x-python",
   "name": "python",
   "nbconvert_exporter": "python",
   "pygments_lexer": "ipython3",
   "version": "3.11.2"
  },
  "orig_nbformat": 4
 },
 "nbformat": 4,
 "nbformat_minor": 2
}
